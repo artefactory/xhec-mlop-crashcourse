{
 "cells": [
  {
   "cell_type": "code",
   "execution_count": 6,
   "metadata": {},
   "outputs": [
    {
     "data": {
      "text/plain": [
       "('data/taxi-zones.csv', <http.client.HTTPMessage at 0x7f97710bf550>)"
      ]
     },
     "execution_count": 6,
     "metadata": {},
     "output_type": "execute_result"
    }
   ],
   "source": [
    "# Data loading\n",
    "import urllib.request\n",
    "\n",
    "urllib.request.urlretrieve(\n",
    "    \"https://d37ci6vzurychx.cloudfront.net/trip-data/fhvhv_tripdata_2022-01.parquet\",\n",
    "    \"data/taxi-trips-jan22.parquet\",\n",
    ")\n",
    "urllib.request.urlretrieve(\n",
    "    \"https://d37ci6vzurychx.cloudfront.net/trip-data/fhvhv_tripdata_2022-02.parquet\",\n",
    "    \"data/taxi-trips-feb22.parquet\",\n",
    ")\n",
    "urllib.request.urlretrieve(\n",
    "    \"https://d37ci6vzurychx.cloudfront.net/misc/taxi+_zone_lookup.csv\",\n",
    "    \"data/taxi-zones.csv\",\n",
    ")"
   ]
  },
  {
   "cell_type": "code",
   "execution_count": 7,
   "metadata": {},
   "outputs": [],
   "source": [
    "# Uglify\n",
    "import pandas as pd\n",
    "from tqdm import tqdm\n",
    "\n",
    "tqdm.pandas()\n",
    "\n",
    "\n",
    "def add_negative_values(data: pd.DataFrame, col: str) -> pd.DataFrame:\n",
    "    \"\"\"\n",
    "    Selects a few rows & disrupts the value in the column changing to a negative number\n",
    "    \"\"\"\n",
    "    data_samples = data.sample(frac=0.001)\n",
    "    data[col] = (\n",
    "        data[col] * (-1 * data.index.isin(data_samples.index))\n",
    "        + (1 - data.index.isin(data_samples.index)) * data[col]\n",
    "    )\n",
    "    return data\n",
    "\n",
    "\n",
    "def distort_values(data: pd.DataFrame, col: str) -> pd.DataFrame:\n",
    "    \"\"\"\n",
    "    Selects a few rows & disrupts the value in the column multiplying by a significant number\n",
    "    \"\"\"\n",
    "    data_samples = data.sample(frac=0.0001)\n",
    "    data[col] = (\n",
    "        data[col] * (1000 * data.index.isin(data_samples.index))\n",
    "        + (1 - data.index.isin(data_samples.index)) * data[col]\n",
    "    )\n",
    "    return data\n",
    "\n",
    "\n",
    "def add_new_value(data: pd.DataFrame, col: str, value: str) -> pd.DataFrame:\n",
    "    \"\"\"\n",
    "    Selects a few rows & disrupts the value in the column changing to a new value\n",
    "    \"\"\"\n",
    "    data_samples = data.sample(frac=0.001)\n",
    "    data.loc[data.index.isin(data_samples.index), col] = value\n",
    "    return data\n",
    "\n",
    "\n",
    "def uglify_taxi_trips(data: pd.DataFrame) -> pd.DataFrame:\n",
    "    \"\"\"\n",
    "    Apply a set of transformation to uglify data (for the purpose of our data management & quality exercise)\n",
    "    \"\"\"\n",
    "    data = add_negative_values(data, \"base_passenger_fare\")\n",
    "    data = add_negative_values(data, \"tips\")\n",
    "    data = distort_values(data, \"trip_miles\")\n",
    "    data = add_new_value(data, \"hvfhs_license_num\", \"HV000\")\n",
    "    data = add_new_value(data, \"PULocationID\", 264)\n",
    "    return data"
   ]
  },
  {
   "cell_type": "code",
   "execution_count": 8,
   "metadata": {},
   "outputs": [
    {
     "name": "stderr",
     "output_type": "stream",
     "text": [
      "100%|██████████| 2/2 [00:21<00:00, 10.61s/it]\n"
     ]
    }
   ],
   "source": [
    "# Add zones mapping & pick a random number of rows -> to lighten memory footprint\n",
    "for file_path in tqdm(\n",
    "    [\"data/taxi-trips-feb22.parquet\", \"data/taxi-trips-jan22.parquet\"]\n",
    "):\n",
    "    data = pd.read_parquet(file_path)\n",
    "    data = data.sample(frac=0.25, random_state=42)\n",
    "    data.to_parquet(file_path)"
   ]
  },
  {
   "cell_type": "code",
   "execution_count": 9,
   "metadata": {},
   "outputs": [
    {
     "name": "stderr",
     "output_type": "stream",
     "text": [
      "100%|██████████| 2/2 [00:10<00:00,  5.35s/it]\n"
     ]
    }
   ],
   "source": [
    "# Uglify\n",
    "for file_path in tqdm(\n",
    "    [\"data/taxi-trips-feb22.parquet\", \"data/taxi-trips-jan22.parquet\"]\n",
    "):\n",
    "    data = pd.read_parquet(file_path)\n",
    "    data = uglify_taxi_trips(data)\n",
    "    data.to_parquet(file_path)"
   ]
  },
  {
   "cell_type": "code",
   "execution_count": null,
   "metadata": {},
   "outputs": [],
   "source": []
  }
 ],
 "metadata": {
  "kernelspec": {
   "display_name": "base",
   "language": "python",
   "name": "python3"
  },
  "language_info": {
   "codemirror_mode": {
    "name": "ipython",
    "version": 3
   },
   "file_extension": ".py",
   "mimetype": "text/x-python",
   "name": "python",
   "nbconvert_exporter": "python",
   "pygments_lexer": "ipython3",
   "version": "3.9.12"
  },
  "orig_nbformat": 4,
  "vscode": {
   "interpreter": {
    "hash": "4126af61235d7179a41e41824b310ad0abcb48d9c0068404ee150aa45bcf6540"
   }
  }
 },
 "nbformat": 4,
 "nbformat_minor": 2
}
